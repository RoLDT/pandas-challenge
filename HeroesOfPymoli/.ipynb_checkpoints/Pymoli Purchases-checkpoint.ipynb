{
 "cells": [
  {
   "cell_type": "code",
   "execution_count": 1,
   "metadata": {},
   "outputs": [],
   "source": [
    "import pandas as pd"
   ]
  },
  {
   "cell_type": "code",
   "execution_count": 2,
   "metadata": {},
   "outputs": [
    {
     "name": "stdout",
     "output_type": "stream",
     "text": [
      "     Purchase ID             SN  Age  Gender  Item ID  \\\n",
      "0              0        Lisim78   20    Male      108   \n",
      "1              1    Lisovynya38   40    Male      143   \n",
      "2              2     Ithergue48   24    Male       92   \n",
      "3              3  Chamassasya86   24    Male      100   \n",
      "4              4      Iskosia90   23    Male      131   \n",
      "..           ...            ...  ...     ...      ...   \n",
      "775          775     Aethedru70   21  Female       60   \n",
      "776          776         Iral74   21    Male      164   \n",
      "777          777     Yathecal72   20    Male       67   \n",
      "778          778        Sisur91    7    Male       92   \n",
      "779          779      Ennrian78   24    Male       50   \n",
      "\n",
      "                                     Item Name  Price  \n",
      "0    Extraction, Quickblade Of Trembling Hands   3.53  \n",
      "1                            Frenzied Scimitar   1.56  \n",
      "2                                 Final Critic   4.88  \n",
      "3                                  Blindscythe   3.27  \n",
      "4                                         Fury   1.44  \n",
      "..                                         ...    ...  \n",
      "775                                       Wolf   3.54  \n",
      "776                           Exiled Doomblade   1.63  \n",
      "777      Celeste, Incarnation of the Corrupted   3.46  \n",
      "778                               Final Critic   4.19  \n",
      "779                                       Dawn   4.60  \n",
      "\n",
      "[780 rows x 7 columns]\n"
     ]
    }
   ],
   "source": [
    "file_path = \"Resources\\\\purchase_data.csv\"\n",
    "\n",
    "purch_df = pd.read_csv(file_path)\n",
    "print(purch_df)"
   ]
  },
  {
   "cell_type": "markdown",
   "metadata": {},
   "source": [
    "# Player Count"
   ]
  },
  {
   "cell_type": "code",
   "execution_count": 4,
   "metadata": {
    "scrolled": true
   },
   "outputs": [
    {
     "name": "stdout",
     "output_type": "stream",
     "text": [
      "   Total Players\n",
      "0            576\n"
     ]
    }
   ],
   "source": [
    "play_c = purch_df.groupby([\"SN\"]).count()\n",
    "play_c = len(play_c)\n",
    "\n",
    "d= {\"Total Players\":[play_c]}\n",
    "play_c_answer = pd.DataFrame(data=d)\n",
    "print(play_c_answer)"
   ]
  },
  {
   "cell_type": "markdown",
   "metadata": {},
   "source": [
    "# Purchasing Analysis (Total)"
   ]
  },
  {
   "cell_type": "code",
   "execution_count": 5,
   "metadata": {},
   "outputs": [
    {
     "name": "stdout",
     "output_type": "stream",
     "text": [
      "179\n"
     ]
    }
   ],
   "source": [
    "itemsunique = purch_df.groupby([\"Item ID\"]).count()\n",
    "itemsunique = len(itemsunique)\n",
    "print(itemsunique)"
   ]
  },
  {
   "cell_type": "code",
   "execution_count": 6,
   "metadata": {},
   "outputs": [
    {
     "name": "stdout",
     "output_type": "stream",
     "text": [
      "3.050987179487176\n"
     ]
    }
   ],
   "source": [
    "avgprice = purch_df[\"Price\"].mean()\n",
    "print(avgprice)"
   ]
  },
  {
   "cell_type": "code",
   "execution_count": 7,
   "metadata": {},
   "outputs": [
    {
     "name": "stdout",
     "output_type": "stream",
     "text": [
      "780\n"
     ]
    }
   ],
   "source": [
    "purchasenum = len(purch_df[\"Purchase ID\"])\n",
    "print(purchasenum)"
   ]
  },
  {
   "cell_type": "code",
   "execution_count": 8,
   "metadata": {
    "scrolled": true
   },
   "outputs": [
    {
     "name": "stdout",
     "output_type": "stream",
     "text": [
      "2379.77\n"
     ]
    }
   ],
   "source": [
    "revenue_df = purch_df[\"Price\"].sum()\n",
    "print(revenue_df)"
   ]
  },
  {
   "cell_type": "code",
   "execution_count": 9,
   "metadata": {},
   "outputs": [
    {
     "name": "stdout",
     "output_type": "stream",
     "text": [
      "   Number of Unique Items Average Price  Number of Purchases Total Revenue\n",
      "0                     179         $3.05                  780      $2379.77\n"
     ]
    }
   ],
   "source": [
    "d = {\"Number of Unique Items\": [itemsunique], \"Average Price\": [avgprice], \"Number of Purchases\": [purchasenum], \"Total Revenue\":[revenue_df]}\n",
    "\n",
    "purch_analysis_df = pd.DataFrame(data=d)\n",
    "purch_analysis_df[\"Average Price\"]= purch_analysis_df[\"Average Price\"].map(\"${:.2f}\".format)\n",
    "purch_analysis_df[\"Total Revenue\"]= purch_analysis_df[\"Total Revenue\"].map(\"${:.2f}\".format)\n",
    "print(purch_analysis_df)"
   ]
  },
  {
   "cell_type": "markdown",
   "metadata": {},
   "source": [
    "# Gender Demographics"
   ]
  },
  {
   "cell_type": "code",
   "execution_count": 10,
   "metadata": {
    "scrolled": true
   },
   "outputs": [
    {
     "name": "stdout",
     "output_type": "stream",
     "text": [
      "   Purchase ID             SN  Age Gender  Item ID  \\\n",
      "0            0        Lisim78   20   Male      108   \n",
      "1            1    Lisovynya38   40   Male      143   \n",
      "2            2     Ithergue48   24   Male       92   \n",
      "3            3  Chamassasya86   24   Male      100   \n",
      "4            4      Iskosia90   23   Male      131   \n",
      "\n",
      "                                   Item Name  Price  \n",
      "0  Extraction, Quickblade Of Trembling Hands   3.53  \n",
      "1                          Frenzied Scimitar   1.56  \n",
      "2                               Final Critic   4.88  \n",
      "3                                Blindscythe   3.27  \n",
      "4                                       Fury   1.44  \n"
     ]
    }
   ],
   "source": [
    "print(purch_df.head())"
   ]
  },
  {
   "cell_type": "code",
   "execution_count": 11,
   "metadata": {},
   "outputs": [],
   "source": [
    "grouped_gender_df = purch_df.groupby([\"Gender\"])"
   ]
  },
  {
   "cell_type": "code",
   "execution_count": 12,
   "metadata": {},
   "outputs": [],
   "source": [
    "gender_count = grouped_gender_df[\"SN\"].nunique()\n",
    "gender_percentage = gender_count/play_c *100"
   ]
  },
  {
   "cell_type": "code",
   "execution_count": 13,
   "metadata": {},
   "outputs": [
    {
     "name": "stdout",
     "output_type": "stream",
     "text": [
      "                       Total Count Percentage of Players\n",
      "Gender                                                  \n",
      "Male                           484                84.03%\n",
      "Female                          81                14.06%\n",
      "Other / Non-Disclosed           11                 1.91%\n"
     ]
    }
   ],
   "source": [
    "d = {\"Total Count\": gender_count, \"Percentage of Players\": gender_percentage}\n",
    "gender_df = pd.DataFrame(data = d)\n",
    "\n",
    "gender_df[\"Percentage of Players\"] = gender_df[\"Percentage of Players\"].map(\"{:.2f}%\".format)\n",
    "\n",
    "print(gender_df.sort_values([\"Total Count\"], ascending=False))"
   ]
  },
  {
   "cell_type": "markdown",
   "metadata": {},
   "source": [
    "# Purchasing Analysis (Gender) "
   ]
  },
  {
   "cell_type": "code",
   "execution_count": 15,
   "metadata": {},
   "outputs": [
    {
     "name": "stdout",
     "output_type": "stream",
     "text": [
      "                       Purchase ID   SN  Age  Item ID  Item Name  Price\n",
      "Gender                                                                 \n",
      "Female                         113  113  113      113        113    113\n",
      "Male                           652  652  652      652        652    652\n",
      "Other / Non-Disclosed           15   15   15       15         15     15\n"
     ]
    }
   ],
   "source": [
    "print(grouped_gender_df.count())"
   ]
  },
  {
   "cell_type": "code",
   "execution_count": 16,
   "metadata": {},
   "outputs": [
    {
     "name": "stdout",
     "output_type": "stream",
     "text": [
      "                       Purchase Count Average Purchase Price  \\\n",
      "Gender                                                         \n",
      "Female                            113                  $3.20   \n",
      "Male                              652                  $3.02   \n",
      "Other / Non-Disclosed              15                  $3.35   \n",
      "\n",
      "                      Total Purchase Value Avg Total Purchase per Person  \n",
      "Gender                                                                    \n",
      "Female                             $361.94                         $4.47  \n",
      "Male                              $1967.64                         $4.07  \n",
      "Other / Non-Disclosed               $50.19                         $4.56  \n"
     ]
    }
   ],
   "source": [
    "\n",
    "purchased_count = grouped_gender_df[\"Purchase ID\"].count()\n",
    "avg_purchase_price = grouped_gender_df[\"Price\"].mean()\n",
    "total_purchase_value = grouped_gender_df[\"Price\"].sum()\n",
    "avg_total_purchase= total_purchase_value/gender_count\n",
    "\n",
    "g = {\"Purchase Count\":purchased_count, \"Average Purchase Price\": avg_purchase_price, \"Total Purchase Value\":total_purchase_value, \"Avg Total Purchase per Person\":avg_total_purchase}\n",
    "summary_df = pd.DataFrame(data=g)\n",
    "\n",
    "\n",
    "summary_df[\"Average Purchase Price\"] = summary_df[\"Average Purchase Price\"].map(\"${:.2f}\".format)\n",
    "summary_df[\"Total Purchase Value\"] = summary_df[\"Total Purchase Value\"].map(\"${:.2f}\".format)\n",
    "summary_df[\"Avg Total Purchase per Person\"] = summary_df[\"Avg Total Purchase per Person\"].map(\"${:.2f}\".format)\n",
    "\n",
    "print(summary_df)\n"
   ]
  },
  {
   "cell_type": "markdown",
   "metadata": {},
   "source": [
    "# Age Demographics"
   ]
  },
  {
   "cell_type": "code",
   "execution_count": 17,
   "metadata": {},
   "outputs": [
    {
     "name": "stdout",
     "output_type": "stream",
     "text": [
      "   Purchase ID             SN  Age Gender  Item ID  \\\n",
      "0            0        Lisim78   20   Male      108   \n",
      "1            1    Lisovynya38   40   Male      143   \n",
      "2            2     Ithergue48   24   Male       92   \n",
      "3            3  Chamassasya86   24   Male      100   \n",
      "4            4      Iskosia90   23   Male      131   \n",
      "\n",
      "                                   Item Name  Price  \n",
      "0  Extraction, Quickblade Of Trembling Hands   3.53  \n",
      "1                          Frenzied Scimitar   1.56  \n",
      "2                               Final Critic   4.88  \n",
      "3                                Blindscythe   3.27  \n",
      "4                                       Fury   1.44  \n"
     ]
    }
   ],
   "source": [
    "age_df = purch_df\n",
    "print(age_df.head())"
   ]
  },
  {
   "cell_type": "code",
   "execution_count": 18,
   "metadata": {
    "scrolled": true
   },
   "outputs": [
    {
     "name": "stdout",
     "output_type": "stream",
     "text": [
      "   Purchase ID             SN  Age Gender  Item ID  \\\n",
      "0            0        Lisim78   20   Male      108   \n",
      "1            1    Lisovynya38   40   Male      143   \n",
      "2            2     Ithergue48   24   Male       92   \n",
      "3            3  Chamassasya86   24   Male      100   \n",
      "4            4      Iskosia90   23   Male      131   \n",
      "\n",
      "                                   Item Name  Price Age Group  \n",
      "0  Extraction, Quickblade Of Trembling Hands   3.53     20-24  \n",
      "1                          Frenzied Scimitar   1.56       40+  \n",
      "2                               Final Critic   4.88     20-24  \n",
      "3                                Blindscythe   3.27     20-24  \n",
      "4                                       Fury   1.44     20-24  \n"
     ]
    }
   ],
   "source": [
    "bins = [0, 9.9, 14, 18.9, 24, 28.9, 34, 39.9, 200]\n",
    "labels=[\"<10\",\"10-14\",\"15-19\",\"20-24\",\"25-29\",\"30-34\",\"35-39\",\"40+\"]\n",
    "\n",
    "age_df[\"Age Group\"] = pd.cut(age_df[\"Age\"], bins, labels= labels, include_lowest=True)\n",
    "\n",
    "print(age_df.head())"
   ]
  },
  {
   "cell_type": "code",
   "execution_count": 19,
   "metadata": {},
   "outputs": [],
   "source": [
    "grouped_age_df = age_df.groupby([\"Age Group\"])\n",
    "\n",
    "age_group_count = grouped_age_df[\"SN\"].nunique()\n",
    "age_group_percentage = age_group_count/play_c * 100"
   ]
  },
  {
   "cell_type": "code",
   "execution_count": 20,
   "metadata": {},
   "outputs": [
    {
     "name": "stdout",
     "output_type": "stream",
     "text": [
      "           Total Count Percentage of Players\n",
      "Age Group                                   \n",
      "<10                 17                 2.95%\n",
      "10-14               22                 3.82%\n",
      "15-19               90                15.62%\n",
      "20-24              275                47.74%\n",
      "25-29               67                11.63%\n",
      "30-34               62                10.76%\n",
      "35-39               31                 5.38%\n",
      "40+                 12                 2.08%\n"
     ]
    }
   ],
   "source": [
    "a = {\"Total Count\":age_group_count, \"Percentage of Players\": age_group_percentage}\n",
    "age_demo = pd.DataFrame(data=a)\n",
    "\n",
    "age_demo[\"Percentage of Players\"] = age_demo[\"Percentage of Players\"].map(\"{:.2f}%\".format)\n",
    "print(age_demo)"
   ]
  },
  {
   "cell_type": "markdown",
   "metadata": {},
   "source": [
    "# Purchasing Analysis (Age)"
   ]
  },
  {
   "cell_type": "code",
   "execution_count": 21,
   "metadata": {
    "scrolled": true
   },
   "outputs": [
    {
     "name": "stdout",
     "output_type": "stream",
     "text": [
      "           Purchase ID   SN  Age  Gender  Item ID  Item Name  Price\n",
      "Age Group                                                          \n",
      "<10                 23   23   23      23       23         23     23\n",
      "10-14               28   28   28      28       28         28     28\n",
      "15-19              113  113  113     113      113        113    113\n",
      "20-24              388  388  388     388      388        388    388\n",
      "25-29               88   88   88      88       88         88     88\n",
      "30-34               86   86   86      86       86         86     86\n",
      "35-39               41   41   41      41       41         41     41\n",
      "40+                 13   13   13      13       13         13     13\n"
     ]
    }
   ],
   "source": [
    "print(grouped_age_df.count())"
   ]
  },
  {
   "cell_type": "code",
   "execution_count": 22,
   "metadata": {},
   "outputs": [],
   "source": [
    "age_purchase_count = grouped_age_df[\"Purchase ID\"].count()\n",
    "age_avgprice = grouped_age_df[\"Price\"].mean()\n",
    "age_totalvalue = grouped_age_df[\"Price\"].sum()\n",
    "age_avgtotal = age_totalvalue/age_group_count"
   ]
  },
  {
   "cell_type": "code",
   "execution_count": 23,
   "metadata": {
    "scrolled": true
   },
   "outputs": [
    {
     "name": "stdout",
     "output_type": "stream",
     "text": [
      "           Purchase Count Average Purchase Price Total Purchase Value  \\\n",
      "Age Group                                                               \n",
      "<10                    23                  $3.35               $77.13   \n",
      "10-14                  28                  $2.96               $82.78   \n",
      "15-19                 113                  $3.03              $342.91   \n",
      "20-24                 388                  $3.05             $1184.04   \n",
      "25-29                  88                  $2.93              $257.77   \n",
      "30-34                  86                  $2.90              $249.23   \n",
      "35-39                  41                  $3.60              $147.67   \n",
      "40+                    13                  $2.94               $38.24   \n",
      "\n",
      "          Avg Total Purchase per Person  \n",
      "Age Group                                \n",
      "<10                               $4.54  \n",
      "10-14                             $3.76  \n",
      "15-19                             $3.81  \n",
      "20-24                             $4.31  \n",
      "25-29                             $3.85  \n",
      "30-34                             $4.02  \n",
      "35-39                             $4.76  \n",
      "40+                               $3.19  \n"
     ]
    }
   ],
   "source": [
    "b = {\"Purchase Count\": age_purchase_count, \"Average Purchase Price\": age_avgprice, \"Total Purchase Value\": age_totalvalue, \"Avg Total Purchase per Person\": age_avgtotal}\n",
    "age_purchase_analysis = pd.DataFrame(data=b)\n",
    "\n",
    "age_purchase_analysis[\"Average Purchase Price\"] = age_purchase_analysis[\"Average Purchase Price\"].map(\"${:.2f}\".format)\n",
    "age_purchase_analysis[\"Total Purchase Value\"] = age_purchase_analysis[\"Total Purchase Value\"].map(\"${:.2f}\".format)\n",
    "age_purchase_analysis[\"Avg Total Purchase per Person\"] = age_purchase_analysis[\"Avg Total Purchase per Person\"].map(\"${:.2f}\".format)\n",
    "\n",
    "print(age_purchase_analysis)"
   ]
  },
  {
   "cell_type": "markdown",
   "metadata": {},
   "source": [
    "# Top Spenders"
   ]
  },
  {
   "cell_type": "code",
   "execution_count": 24,
   "metadata": {
    "scrolled": true
   },
   "outputs": [
    {
     "name": "stdout",
     "output_type": "stream",
     "text": [
      "               Purchase ID  Age  Gender  Item ID  Item Name  Price  Age Group\n",
      "SN                                                                           \n",
      "Adairialis76             1    1       1        1          1      1          1\n",
      "Adastirin33              1    1       1        1          1      1          1\n",
      "Aeda94                   1    1       1        1          1      1          1\n",
      "Aela59                   1    1       1        1          1      1          1\n",
      "Aelaria33                1    1       1        1          1      1          1\n",
      "...                    ...  ...     ...      ...        ...    ...        ...\n",
      "Yathecal82               3    3       3        3          3      3          3\n",
      "Yathedeu43               2    2       2        2          2      2          2\n",
      "Yoishirrala98            1    1       1        1          1      1          1\n",
      "Zhisrisu83               2    2       2        2          2      2          2\n",
      "Zontibe81                3    3       3        3          3      3          3\n",
      "\n",
      "[576 rows x 7 columns]\n"
     ]
    }
   ],
   "source": [
    "username_df = purch_df.groupby([\"SN\"])\n",
    "\n",
    "print(username_df.count())"
   ]
  },
  {
   "cell_type": "code",
   "execution_count": 25,
   "metadata": {},
   "outputs": [],
   "source": [
    "username_purch_count = username_df[\"Purchase ID\"].count()\n",
    "username_avgprice = username_df[\"Price\"].mean()\n",
    "username_totalvalue = username_df[\"Price\"].sum()"
   ]
  },
  {
   "cell_type": "code",
   "execution_count": 26,
   "metadata": {},
   "outputs": [
    {
     "name": "stdout",
     "output_type": "stream",
     "text": [
      "             Purchase Count Average Purchase Price Total Purchase Value\n",
      "SN                                                                     \n",
      "Lisosia93                 5                  $3.79               $18.96\n",
      "Idastidru52               4                  $3.86               $15.45\n",
      "Chamjask73                3                  $4.61               $13.83\n",
      "Iral74                    4                  $3.40               $13.62\n",
      "Iskadarya95               3                  $4.37               $13.10\n"
     ]
    }
   ],
   "source": [
    "u = {\"Purchase Count\":username_purch_count, \"Average Purchase Price\": username_avgprice, \"Total Purchase Value\": username_totalvalue}\n",
    "\n",
    "topspend = pd.DataFrame(data=u)\n",
    "topspend_sort = topspend.sort_values(by=[\"Total Purchase Value\"],ascending = False)\n",
    "\n",
    "topspend_sort[\"Average Purchase Price\"] = topspend_sort[\"Average Purchase Price\"].map(\"${:.2f}\".format)\n",
    "topspend_sort[\"Total Purchase Value\"] = topspend_sort[\"Total Purchase Value\"].map(\"${:.2f}\".format)\n",
    "\n",
    "print(topspend_sort.head(5))"
   ]
  },
  {
   "cell_type": "markdown",
   "metadata": {},
   "source": [
    "# Most Popular and Most Profitable Items "
   ]
  },
  {
   "cell_type": "code",
   "execution_count": 27,
   "metadata": {
    "scrolled": false
   },
   "outputs": [
    {
     "name": "stdout",
     "output_type": "stream",
     "text": [
      "                                                      Purchase ID  SN  Age  \\\n",
      "Item ID Item Name                                                            \n",
      "0       Splinter                                                4   4    4   \n",
      "1       Crucifer                                                4   4    4   \n",
      "2       Verdict                                                 6   6    6   \n",
      "3       Phantomlight                                            6   6    6   \n",
      "4       Bloodlord's Fetish                                      5   5    5   \n",
      "...                                                           ...  ..  ...   \n",
      "178     Oathbreaker, Last Hope of the Breaking Storm           12  12   12   \n",
      "179     Wolf, Promise of the Moonwalker                         6   6    6   \n",
      "181     Reaper's Toll                                           5   5    5   \n",
      "182     Toothpick                                               3   3    3   \n",
      "183     Dragon's Greatsword                                     3   3    3   \n",
      "\n",
      "                                                      Gender  Price  Age Group  \n",
      "Item ID Item Name                                                               \n",
      "0       Splinter                                           4      4          4  \n",
      "1       Crucifer                                           4      4          4  \n",
      "2       Verdict                                            6      6          6  \n",
      "3       Phantomlight                                       6      6          6  \n",
      "4       Bloodlord's Fetish                                 5      5          5  \n",
      "...                                                      ...    ...        ...  \n",
      "178     Oathbreaker, Last Hope of the Breaking Storm      12     12         12  \n",
      "179     Wolf, Promise of the Moonwalker                    6      6          6  \n",
      "181     Reaper's Toll                                      5      5          5  \n",
      "182     Toothpick                                          3      3          3  \n",
      "183     Dragon's Greatsword                                3      3          3  \n",
      "\n",
      "[179 rows x 6 columns]\n"
     ]
    }
   ],
   "source": [
    "item_df = purch_df.groupby([\"Item ID\",\"Item Name\"])\n",
    "print(item_df.count())"
   ]
  },
  {
   "cell_type": "code",
   "execution_count": 28,
   "metadata": {},
   "outputs": [],
   "source": [
    "item_purchase = item_df[\"Purchase ID\"].count()\n",
    "item_price = item_df.mean()[\"Price\"]\n",
    "item_totalpurchase = item_purchase*item_price"
   ]
  },
  {
   "cell_type": "code",
   "execution_count": 33,
   "metadata": {},
   "outputs": [
    {
     "name": "stdout",
     "output_type": "stream",
     "text": [
      "                                                      Purchase Count  \\\n",
      "Item ID Item Name                                                      \n",
      "92      Final Critic                                              13   \n",
      "178     Oathbreaker, Last Hope of the Breaking Storm              12   \n",
      "82      Nirvana                                                    9   \n",
      "145     Fiery Glass Crusader                                       9   \n",
      "103     Singed Scalpel                                             8   \n",
      "\n",
      "                                                      Item Price  \\\n",
      "Item ID Item Name                                                  \n",
      "92      Final Critic                                        4.61   \n",
      "178     Oathbreaker, Last Hope of the Breaking Storm        4.23   \n",
      "82      Nirvana                                             4.90   \n",
      "145     Fiery Glass Crusader                                4.58   \n",
      "103     Singed Scalpel                                      4.35   \n",
      "\n",
      "                                                      Total Purchase Value  \n",
      "Item ID Item Name                                                           \n",
      "92      Final Critic                                                 59.99  \n",
      "178     Oathbreaker, Last Hope of the Breaking Storm                 50.76  \n",
      "82      Nirvana                                                      44.10  \n",
      "145     Fiery Glass Crusader                                         41.22  \n",
      "103     Singed Scalpel                                               34.80  \n"
     ]
    }
   ],
   "source": [
    "i = {\"Purchase Count\": item_purchase, \"Item Price\": item_price.round(2), \"Total Purchase Value\": item_totalpurchase}\n",
    "\n",
    "topitems = pd.DataFrame(data = i)\n",
    "\n",
    "topitems_sorted= topitems.sort_values(by=\"Total Purchase Value\", ascending= False)\n",
    "\n",
    "print(topitems_sorted.head(5))"
   ]
  },
  {
   "cell_type": "markdown",
   "metadata": {},
   "source": [
    "# Three Observable Trends in the Data"
   ]
  },
  {
   "cell_type": "markdown",
   "metadata": {},
   "source": [
    "1. Female and Other/Non-Disclosed players are making less purchases than Male players. However, they are willing to spend on Average the same amount of money on a given purchase (Average Purchase Price). This fact could be useful on a marketing campaign aimed specifically at Female and Other/Non-Disclosed players."
   ]
  },
  {
   "cell_type": "markdown",
   "metadata": {},
   "source": [
    "2. The most profitable Age Groups are \"15-19\" and \"20-24\". We could cater new items to their playing experience needs to increase the probability of a sale."
   ]
  },
  {
   "cell_type": "markdown",
   "metadata": {},
   "source": [
    "3. All Items offered in the store were purchased at least once. We could offer bundles where different kinds of items are included to increase the purchasing interest of players."
   ]
  }
 ],
 "metadata": {
  "kernelspec": {
   "display_name": "Python 3",
   "language": "python",
   "name": "python3"
  },
  "language_info": {
   "codemirror_mode": {
    "name": "ipython",
    "version": 3
   },
   "file_extension": ".py",
   "mimetype": "text/x-python",
   "name": "python",
   "nbconvert_exporter": "python",
   "pygments_lexer": "ipython3",
   "version": "3.8.3"
  }
 },
 "nbformat": 4,
 "nbformat_minor": 4
}
